{
 "cells": [
  {
   "cell_type": "code",
   "execution_count": 1,
   "id": "1cfc51d1-948f-4d4b-9e94-61a27453b34e",
   "metadata": {},
   "outputs": [
    {
     "name": "stdout",
     "output_type": "stream",
     "text": [
      "['American whole magazine truth stop whose. On traditional measure example sense peace. Would mouth relate own chair.', 'Together range line beyond. First policy daughter need kind miss.', 'Trouble behavior style report size personal partner. During foot that course nothing draw.']\n"
     ]
    }
   ],
   "source": [
    "# Generate random texts\n",
    "from faker import Faker\n",
    "\n",
    "fake = Faker()\n",
    "fake.seed_instance(0)\n",
    "fake_text = fake.text(max_nb_chars=200_000).split(\"\\n\")\n",
    "print(fake_text[:3])"
   ]
  },
  {
   "cell_type": "code",
   "execution_count": 2,
   "id": "9f2bd1c2-1580-4d13-8045-b4f045fc518c",
   "metadata": {},
   "outputs": [],
   "source": [
    "# Imports\n",
    "from rapidfuzz import process as rapidfuzz_process\n",
    "from thefuzz import process as thefuzz_process"
   ]
  },
  {
   "cell_type": "code",
   "execution_count": 3,
   "id": "11d1d19b-fc1c-443f-87d7-5ae920d1ff80",
   "metadata": {},
   "outputs": [
    {
     "name": "stdout",
     "output_type": "stream",
     "text": [
      "CPU times: user 428 ms, sys: 34.3 ms, total: 462 ms\n",
      "Wall time: 261 ms\n"
     ]
    },
    {
     "data": {
      "text/plain": [
       "[('Security stock ball organization recognize civil. Pm her then nothing increase.',\n",
       "  90),\n",
       " ('Language ball floor meet usually board necessary. Natural sport music white.',\n",
       "  86),\n",
       " ('First degree response able state more. Couple part cup few. Beyond take however ball.',\n",
       "  86),\n",
       " ('Important hope about catch. Style record bag down stock computer watch. Sea stuff no response.',\n",
       "  86),\n",
       " ('Ball appear television so teach energy possible. Student bag grow better. Child might source.',\n",
       "  86)]"
      ]
     },
     "execution_count": 3,
     "metadata": {},
     "output_type": "execute_result"
    }
   ],
   "source": [
    "%%time\n",
    "thefuzz_process.extract(\"stock ball organization\", choices=fake_text)"
   ]
  },
  {
   "cell_type": "code",
   "execution_count": 4,
   "id": "b54e9193-093d-4443-9629-7b3335035457",
   "metadata": {},
   "outputs": [
    {
     "name": "stdout",
     "output_type": "stream",
     "text": [
      "CPU times: user 21.2 ms, sys: 547 µs, total: 21.8 ms\n",
      "Wall time: 21.6 ms\n"
     ]
    },
    {
     "data": {
      "text/plain": [
       "[('Security stock ball organization recognize civil. Pm her then nothing increase.',\n",
       "  90.0,\n",
       "  10),\n",
       " ('Language ball floor meet usually board necessary. Natural sport music white.',\n",
       "  85.5,\n",
       "  3),\n",
       " ('First degree response able state more. Couple part cup few. Beyond take however ball.',\n",
       "  85.5,\n",
       "  12),\n",
       " ('Important hope about catch. Style record bag down stock computer watch. Sea stuff no response.',\n",
       "  85.5,\n",
       "  54),\n",
       " ('Ball appear television so teach energy possible. Student bag grow better. Child might source.',\n",
       "  85.5,\n",
       "  74)]"
      ]
     },
     "execution_count": 4,
     "metadata": {},
     "output_type": "execute_result"
    }
   ],
   "source": [
    "%%time\n",
    "rapidfuzz_process.extract(\"stock ball organization\", choices=fake_text)"
   ]
  },
  {
   "cell_type": "code",
   "execution_count": null,
   "id": "55e36fbf-5760-4093-b7ce-1fd0fdbad338",
   "metadata": {},
   "outputs": [],
   "source": []
  }
 ],
 "metadata": {
  "kernelspec": {
   "display_name": "Python 3 (ipykernel)",
   "language": "python",
   "name": "python3"
  },
  "language_info": {
   "codemirror_mode": {
    "name": "ipython",
    "version": 3
   },
   "file_extension": ".py",
   "mimetype": "text/x-python",
   "name": "python",
   "nbconvert_exporter": "python",
   "pygments_lexer": "ipython3",
   "version": "3.9.13"
  }
 },
 "nbformat": 4,
 "nbformat_minor": 5
}