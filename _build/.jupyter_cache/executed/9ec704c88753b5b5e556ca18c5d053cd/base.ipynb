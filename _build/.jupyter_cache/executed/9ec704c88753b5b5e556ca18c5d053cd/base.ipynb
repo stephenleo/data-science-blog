{
 "cells": [
  {
   "cell_type": "code",
   "execution_count": 1,
   "id": "72989907-8140-41ff-b8c0-01e24dc9b2c7",
   "metadata": {},
   "outputs": [],
   "source": [
    "import pandas as pd\n",
    "\n",
    "url = \"https://raw.github.com/pandas-dev/pandas/main/pandas/tests/io/data/csv/tips.csv\"\n",
    "\n",
    "tips = pd.read_csv(url)\n",
    "tips_pivot = tips.pivot_table(\n",
    "    values=\"tip\", index=[\"size\"], columns=[\"sex\"], aggfunc=\"mean\"\n",
    ")"
   ]
  },
  {
   "cell_type": "code",
   "execution_count": null,
   "id": "7bed6422-b4d6-4152-b1d7-39fce31f63bc",
   "metadata": {},
   "outputs": [],
   "source": []
  }
 ],
 "metadata": {
  "kernelspec": {
   "display_name": "Python 3 (ipykernel)",
   "language": "python",
   "name": "python3"
  },
  "language_info": {
   "codemirror_mode": {
    "name": "ipython",
    "version": 3
   },
   "file_extension": ".py",
   "mimetype": "text/x-python",
   "name": "python",
   "nbconvert_exporter": "python",
   "pygments_lexer": "ipython3",
   "version": "3.9.13"
  }
 },
 "nbformat": 4,
 "nbformat_minor": 5
}