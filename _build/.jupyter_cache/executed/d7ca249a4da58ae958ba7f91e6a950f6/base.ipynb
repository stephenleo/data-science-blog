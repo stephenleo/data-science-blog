{
 "cells": [
  {
   "cell_type": "code",
   "execution_count": 1,
   "id": "8a6c6250-5c78-453a-876b-1f848bd88ab2",
   "metadata": {},
   "outputs": [
    {
     "name": "stdout",
     "output_type": "stream",
     "text": [
      "[0 0 0 1 1]\n",
      "[2 0 1 1 2]\n"
     ]
    }
   ],
   "source": [
    "import numpy as np\n",
    "from kmodes.kmodes import KModes\n",
    "from kmodes.kprototypes import KPrototypes\n",
    "\n",
    "# random categorical data\n",
    "data = np.random.choice(20, (100, 10))\n",
    "\n",
    "# KModes clustering - Categorical columns only\n",
    "km = KModes(n_clusters=4, n_jobs=-1)\n",
    "kmodes_cluster_ids = km.fit_predict(data)\n",
    "\n",
    "# KPrototypes clustering - Categorical + Continuous columns!\n",
    "kproto = KPrototypes(n_clusters=4, n_jobs=-1)\n",
    "kproto_cluster_ids = kproto.fit_predict(data, categorical=[0, 3, 8, 9])\n",
    "\n",
    "# Print the cluster ids for first 5 data points\n",
    "print(kmodes_cluster_ids[:5])\n",
    "print(kproto_cluster_ids[:5])"
   ]
  },
  {
   "cell_type": "code",
   "execution_count": null,
   "id": "199fdd9a-1a78-4de5-836a-8ae957af6a2d",
   "metadata": {},
   "outputs": [],
   "source": []
  }
 ],
 "metadata": {
  "kernelspec": {
   "display_name": "Python 3 (ipykernel)",
   "language": "python",
   "name": "python3"
  },
  "language_info": {
   "codemirror_mode": {
    "name": "ipython",
    "version": 3
   },
   "file_extension": ".py",
   "mimetype": "text/x-python",
   "name": "python",
   "nbconvert_exporter": "python",
   "pygments_lexer": "ipython3",
   "version": "3.9.13"
  }
 },
 "nbformat": 4,
 "nbformat_minor": 5
}