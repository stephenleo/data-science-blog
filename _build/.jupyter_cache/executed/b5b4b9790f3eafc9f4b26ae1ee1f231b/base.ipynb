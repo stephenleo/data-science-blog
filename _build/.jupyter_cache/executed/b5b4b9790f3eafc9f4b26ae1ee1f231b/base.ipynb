{
 "cells": [
  {
   "cell_type": "code",
   "execution_count": 1,
   "id": "50e378ac-3ede-406f-a6d5-d4f458689b45",
   "metadata": {},
   "outputs": [
    {
     "name": "stdout",
     "output_type": "stream",
     "text": [
      "   col_a  col_b col_c\n",
      "0    1.5  200.1     a\n",
      "1    2.3  150.6     b\n",
      "{\"col_a\":1.5,\"col_b\":200.1,\"col_c\":\"a\"}\n",
      "{\"col_a\":2.3,\"col_b\":150.6,\"col_c\":\"b\"}\n",
      "\n",
      "   col_a  col_b col_c\n",
      "0    1.5  200.1     a\n",
      "1    2.3  150.6     b\n"
     ]
    }
   ],
   "source": [
    "import pandas as pd\n",
    "\n",
    "# Create dummy dataframe\n",
    "df = pd.DataFrame({\"col_a\": [1.5, 2.3], \"col_b\": [200.1, 150.6], \"col_c\": [\"a\", \"b\"]})\n",
    "print(df)\n",
    "\n",
    "# Pandas Dataframe to JSON lines string\n",
    "json_lines_str = df.to_json(orient=\"records\", lines=True)\n",
    "print(json_lines_str)\n",
    "\n",
    "# JSON lines string to Pandas Dataframe\n",
    "df_reconstructed = pd.read_json(json_lines_str, lines=True)\n",
    "print(df_reconstructed)"
   ]
  },
  {
   "cell_type": "code",
   "execution_count": null,
   "id": "1126c9a2-ce6f-48d6-8f84-456e553a1480",
   "metadata": {},
   "outputs": [],
   "source": []
  }
 ],
 "metadata": {
  "kernelspec": {
   "display_name": "Python 3 (ipykernel)",
   "language": "python",
   "name": "python3"
  },
  "language_info": {
   "codemirror_mode": {
    "name": "ipython",
    "version": 3
   },
   "file_extension": ".py",
   "mimetype": "text/x-python",
   "name": "python",
   "nbconvert_exporter": "python",
   "pygments_lexer": "ipython3",
   "version": "3.9.13"
  }
 },
 "nbformat": 4,
 "nbformat_minor": 5
}