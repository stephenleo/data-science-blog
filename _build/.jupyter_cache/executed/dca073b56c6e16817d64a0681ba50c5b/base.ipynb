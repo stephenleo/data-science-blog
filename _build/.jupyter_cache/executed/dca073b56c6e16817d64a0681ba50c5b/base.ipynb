{
 "cells": [
  {
   "cell_type": "code",
   "execution_count": 1,
   "id": "5261a052-7f41-47d2-86cd-b8fe3264cbf4",
   "metadata": {},
   "outputs": [
    {
     "name": "stdout",
     "output_type": "stream",
     "text": [
      "-----Reading with Boto3-----\n"
     ]
    },
    {
     "name": "stdout",
     "output_type": "stream",
     "text": [
      "User-Agent: *\n",
      "Disallow: /\n",
      "\n",
      "-----Reading with Smart Open-----\n"
     ]
    },
    {
     "name": "stdout",
     "output_type": "stream",
     "text": [
      "User-Agent: *\n",
      "Disallow: /\n"
     ]
    }
   ],
   "source": [
    "# Imports\n",
    "import boto3\n",
    "from smart_open import open\n",
    "\n",
    "file_to_read = \"s3://commoncrawl/robots.txt\"\n",
    "\n",
    "# With Boto3 - 🥴\n",
    "print(\"-----Reading with Boto3-----\")\n",
    "s3 = boto3.resource(\"s3\")\n",
    "split_filename = file_to_read.split(\"/\")\n",
    "obj = s3.Object(split_filename[2], \"/\".join(split_filename[3:]))\n",
    "body = obj.get()[\"Body\"].read()\n",
    "print(body.decode())\n",
    "\n",
    "# With Smart Open! - 😎\n",
    "print(\"\\n-----Reading with Smart Open-----\")\n",
    "with open(file_to_read) as f:\n",
    "    print(f.read())"
   ]
  },
  {
   "cell_type": "code",
   "execution_count": null,
   "id": "0d986b00-c779-4ce9-a47f-5996b3c4c1d5",
   "metadata": {},
   "outputs": [],
   "source": []
  }
 ],
 "metadata": {
  "kernelspec": {
   "display_name": "Python 3 (ipykernel)",
   "language": "python",
   "name": "python3"
  },
  "language_info": {
   "codemirror_mode": {
    "name": "ipython",
    "version": 3
   },
   "file_extension": ".py",
   "mimetype": "text/x-python",
   "name": "python",
   "nbconvert_exporter": "python",
   "pygments_lexer": "ipython3",
   "version": "3.9.13"
  }
 },
 "nbformat": 4,
 "nbformat_minor": 5
}