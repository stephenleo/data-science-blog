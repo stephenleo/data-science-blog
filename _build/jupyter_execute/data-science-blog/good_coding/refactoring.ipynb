{
 "cells": [
  {
   "cell_type": "markdown",
   "metadata": {},
   "source": [
    "# 🔩 Refactoring"
   ]
  },
  {
   "cell_type": "markdown",
   "metadata": {},
   "source": [
    "## 🧹 Sourcery: Automated code refactoring!\n",
    "\n",
    "- Real-time refactoring suggestions with one-click updates\n",
    "- Code quality feedback\n",
    "- Refactoring explanations to make you a better programmer!\n",
    "- Star the repo to get an automated refactoring PR on your most popular repos!\n",
    "- VSCode Extension\n",
    "\n",
    "🌟 Github: [https://github.com/sourcery-ai/sourcery](Sourcery)\n",
    "\n",
    "🔥 VSCode/ Pycharm extensions: [https://sourcery.ai/](https://sourcery.ai/)\n",
    "\n",
    "💯 Supported Refactorings: [https://docs.sourcery.ai/refactorings/](https://docs.sourcery.ai/refactorings/)\n",
    "\n",
    "#datascience #dataanalytics #coding #github #artificialintelligence\n",
    "\n",
    "<iframe id=\"video\" width=\"560\" height=\"315\" src=\"https://sourcery.ai/static/sourcery-producthunt-3f6370038174e1e118bf13a0785f2d0f.mp4\" frameborder=\"0\" allow=\"autoplay; encrypted-media\" allowfullscreen=\"\"></iframe>"
   ]
  },
  {
   "cell_type": "code",
   "execution_count": null,
   "metadata": {},
   "outputs": [],
   "source": []
  }
 ],
 "metadata": {
  "kernelspec": {
   "display_name": "Python 3.9.13 ('li')",
   "language": "python",
   "name": "python3"
  },
  "language_info": {
   "codemirror_mode": {
    "name": "ipython",
    "version": 3
   },
   "file_extension": ".py",
   "mimetype": "text/x-python",
   "name": "python",
   "nbconvert_exporter": "python",
   "pygments_lexer": "ipython3",
   "version": "3.9.13"
  },
  "vscode": {
   "interpreter": {
    "hash": "f8b29a6f2d8e00a59334ab65b91de1f870e461e73a072a6e974f15b19ba89b9d"
   }
  }
 },
 "nbformat": 4,
 "nbformat_minor": 2
}