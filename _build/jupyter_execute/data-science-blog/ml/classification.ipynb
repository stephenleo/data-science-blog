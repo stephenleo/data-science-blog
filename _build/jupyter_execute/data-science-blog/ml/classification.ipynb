{
 "cells": [
  {
   "cell_type": "markdown",
   "id": "cf2ed08e-efc0-4246-9ee6-d201e8d1890c",
   "metadata": {},
   "source": [
    "# 💠 Classification"
   ]
  },
  {
   "cell_type": "markdown",
   "id": "8012e4bc-586c-4b16-95b9-509e1b99ad72",
   "metadata": {},
   "source": [
    "## 🏏 Multi-label Classification Stratified Split\n",
    "\n",
    "Iterative Stratification: Easily stratify the train test split for multi-label classification problems\n",
    "\n",
    "- In machine learning classification problems, when your input data has imbalanced classes, it's necessary to stratify the train-test split so that we maintain the proportion of the minority class in both the train and test splits.\n",
    "- Unfortunately, sklearn's train_test_split only allows stratified splits for single-label classification and does not support multiple labels.\n",
    "\n",
    "Enter iterative-stratification:\n",
    "\n",
    "- Stratify the train test split across multiple labels concurrently\n",
    "- With K-Fold cross-validation!\n",
    "- Compatible with sklearn\n",
    "\n",
    "`pip install iterative-stratification`\n",
    "\n",
    "🌟 Github: https://github.com/trent-b/iterative-stratification\n",
    "\n",
    "#datascience #dataanalytics #machinelearning #python\n",
    "\n",
    "```{image} images/classification/Repos-iterative-stratification.png\n",
    ":alt: multi-label stratified split\n",
    ":class: bg-primary mb-1\n",
    ":width: 100%\n",
    ":align: center\n",
    "```"
   ]
  },
  {
   "cell_type": "code",
   "execution_count": 1,
   "id": "1216458b-af83-4b95-b765-99d9c52a976a",
   "metadata": {},
   "outputs": [],
   "source": [
    "import pandas as pd\n",
    "from iterstrat.ml_stratifiers import MultilabelStratifiedKFold\n",
    "from sklearn.datasets import make_multilabel_classification\n",
    "\n",
    "\n",
    "def y_proportions(y):\n",
    "    df = pd.DataFrame(y)\n",
    "    return df.apply(pd.value_counts)\n",
    "\n",
    "\n",
    "# Create dummy multi-label data\n",
    "X, y = make_multilabel_classification(n_samples=10_000, random_state=1)\n",
    "\n",
    "# Stratified K-Fold split\n",
    "mskf = MultilabelStratifiedKFold(n_splits=3, shuffle=True)\n",
    "\n",
    "for train_index, test_index in mskf.split(X, y):\n",
    "    X_train, X_test = X[train_index], X[test_index]\n",
    "    y_train, y_test = y[train_index], y[test_index]\n",
    "\n",
    "    # TODO: Fit and score model"
   ]
  },
  {
   "cell_type": "code",
   "execution_count": 2,
   "id": "b61edc2f-c177-4461-821f-6754a780d85f",
   "metadata": {},
   "outputs": [
    {
     "name": "stdout",
     "output_type": "stream",
     "text": [
      "      0     1     2     3     4\n",
      "0  4875  3619  9651  5627  7120\n",
      "1  5125  6381   349  4373  2880\n"
     ]
    }
   ],
   "source": [
    "# Overall\n",
    "print(y_proportions(y))"
   ]
  },
  {
   "cell_type": "code",
   "execution_count": 3,
   "id": "9f31c788-6933-4c88-b482-103c27a1e70b",
   "metadata": {},
   "outputs": [
    {
     "name": "stdout",
     "output_type": "stream",
     "text": [
      "      0     1     2     3     4\n",
      "0  3250  2413  6434  3752  4747\n",
      "1  3417  4254   233  2915  1920\n"
     ]
    }
   ],
   "source": [
    "# Train\n",
    "print(y_proportions(y_train))"
   ]
  },
  {
   "cell_type": "code",
   "execution_count": 4,
   "id": "c3768b58-0ae3-4290-954f-89bbffc7ad0f",
   "metadata": {},
   "outputs": [
    {
     "name": "stdout",
     "output_type": "stream",
     "text": [
      "      0     1     2     3     4\n",
      "0  1625  1206  3217  1875  2373\n",
      "1  1708  2127   116  1458   960\n"
     ]
    }
   ],
   "source": [
    "# Test\n",
    "print(y_proportions(y_test))"
   ]
  },
  {
   "cell_type": "markdown",
   "id": "f9f74f11-7ab8-430c-8505-59702ff27751",
   "metadata": {},
   "source": [
    "## 🚲 Efficient Metrics Calculation\n",
    "Typically when you want to calculate multiple metrics for a machine learning model, you’d import and run them one by one. \n",
    "\n",
    "Instead, using the get_scorer function, you can refactor your code to calculate multiple metrics with a single get_scorer method, as shown in the image.\n",
    "\n",
    "You could move metrics_list to a config.yml so that we can change the metrics calculated without changing any code!\n",
    "\n",
    "#datascience #dataanalytics #dataengineering #machinelearning #python\n",
    "\n",
    "```{image} images/classification/Repos-get_scorer.png\n",
    ":alt: get_scorer method\n",
    ":class: bg-primary mb-1\n",
    ":width: 100%\n",
    ":align: center\n",
    "```"
   ]
  },
  {
   "cell_type": "code",
   "execution_count": 5,
   "id": "bec6b7aa-78d7-4b77-bbbf-12a2f86bb455",
   "metadata": {},
   "outputs": [],
   "source": [
    "from pprint import pprint\n",
    "\n",
    "from sklearn.datasets import make_classification\n",
    "from sklearn.linear_model import LogisticRegression\n",
    "from sklearn.model_selection import train_test_split\n",
    "\n",
    "# Create dummy classification data and model\n",
    "X, y = make_classification(n_samples=10_000, random_state=1)\n",
    "X_train, X_test, y_train, y_test = train_test_split(X, y)\n",
    "\n",
    "model = LogisticRegression().fit(X_train, y_train)"
   ]
  },
  {
   "cell_type": "code",
   "execution_count": 6,
   "id": "7bba965b-ee78-4f73-badb-828b0a21daad",
   "metadata": {},
   "outputs": [
    {
     "name": "stdout",
     "output_type": "stream",
     "text": [
      "{'accuracy': 0.872,\n",
      " 'f1': 0.8688524590163935,\n",
      " 'precision': 0.8818635607321131,\n",
      " 'recall': 0.8562197092084006,\n",
      " 'roc_auc': 0.8718499496913635}\n"
     ]
    }
   ],
   "source": [
    "# Normal way to calculate multiple metrics 😮‍💨\n",
    "from sklearn.metrics import (\n",
    "    accuracy_score,\n",
    "    f1_score,\n",
    "    precision_score,\n",
    "    recall_score,\n",
    "    roc_auc_score,\n",
    ")\n",
    "\n",
    "y_pred = model.predict(X_test)\n",
    "\n",
    "metrics = {}\n",
    "metrics[\"accuracy\"] = accuracy_score(y_test, y_pred)\n",
    "metrics[\"precision\"] = precision_score(y_test, y_pred)\n",
    "metrics[\"recall\"] = recall_score(y_test, y_pred)\n",
    "metrics[\"f1\"] = f1_score(y_test, y_pred)\n",
    "metrics[\"roc_auc\"] = roc_auc_score(y_test, y_pred)\n",
    "\n",
    "pprint(metrics)"
   ]
  },
  {
   "cell_type": "code",
   "execution_count": 7,
   "id": "a934d4f5-49fa-45fd-9022-19fffd808a7b",
   "metadata": {},
   "outputs": [
    {
     "name": "stdout",
     "output_type": "stream",
     "text": [
      "{'accuracy': 0.872,\n",
      " 'f1': 0.8688524590163935,\n",
      " 'precision': 0.8818635607321131,\n",
      " 'recall': 0.8562197092084006,\n",
      " 'roc_auc': 0.9389492535632084}\n"
     ]
    }
   ],
   "source": [
    "# Better way to calculate multiple metrics 🤓\n",
    "from sklearn.metrics import get_scorer\n",
    "\n",
    "metrics_list = [\"accuracy\", \"precision\", \"recall\", \"f1\", \"roc_auc\"]\n",
    "metrics = {metric: get_scorer(metric)(model, X_test, y_test) for metric in metrics_list}\n",
    "\n",
    "pprint(metrics)"
   ]
  },
  {
   "cell_type": "code",
   "execution_count": null,
   "id": "617dbb87-5e97-4b53-a73e-f1dd3dd0a5b8",
   "metadata": {},
   "outputs": [],
   "source": []
  }
 ],
 "metadata": {
  "kernelspec": {
   "display_name": "Python 3 (ipykernel)",
   "language": "python",
   "name": "python3"
  },
  "language_info": {
   "codemirror_mode": {
    "name": "ipython",
    "version": 3
   },
   "file_extension": ".py",
   "mimetype": "text/x-python",
   "name": "python",
   "nbconvert_exporter": "python",
   "pygments_lexer": "ipython3",
   "version": "3.9.13"
  }
 },
 "nbformat": 4,
 "nbformat_minor": 5
}