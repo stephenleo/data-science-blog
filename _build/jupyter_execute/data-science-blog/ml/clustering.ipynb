{
 "cells": [
  {
   "cell_type": "markdown",
   "id": "a8a699e2-dfaf-461b-aa05-2ba272ebad5e",
   "metadata": {},
   "source": [
    "# 🍇 Clustering\n",
    "Unsupervised grouping of related items"
   ]
  },
  {
   "cell_type": "markdown",
   "id": "12d9b703-c636-476e-9643-ad8f9b5619ee",
   "metadata": {},
   "source": [
    "## 🍢 KModes: Clustering of Categorical Data\n",
    "\n",
    "KModes: Clustering of Categorical Data WITHOUT One-Hot encoding!\n",
    "\n",
    "- KMeans clustering using Euclidean distance to find clusters so you need to one-hot encode all categorical data\n",
    "- In KModes clustering, you can directly cluster categorical data without one-hot encoding!\n",
    "- KModes uses the number of dissimilar values between two categorical vectors as a distance metric to assign each data point to its nearest cluster at each clustering step.\n",
    "- Mode is the most observed value for each column in the cluster\n",
    "- Implement in one line of code!\n",
    "- It also supports the K-Prototypes algorithm for combining k-modes and k-means on mixed categorical + numerical data.\n",
    "\n",
    "`pip install kmodes`\n",
    "\n",
    "🌟 Github: [https://github.com/nicodv/kmodes](https://github.com/nicodv/kmodes)\n",
    "\n",
    "```{image} images/clustering/Repos-kmodes.png\n",
    ":alt: kmodes\n",
    ":class: bg-primary mb-1\n",
    ":width: 100%\n",
    ":align: center\n",
    "```"
   ]
  },
  {
   "cell_type": "code",
   "execution_count": 1,
   "id": "8a6c6250-5c78-453a-876b-1f848bd88ab2",
   "metadata": {},
   "outputs": [
    {
     "name": "stdout",
     "output_type": "stream",
     "text": [
      "[0 3 0 1 0]\n",
      "[2 1 1 1 0]\n"
     ]
    }
   ],
   "source": [
    "import numpy as np\n",
    "from kmodes.kmodes import KModes\n",
    "from kmodes.kprototypes import KPrototypes\n",
    "\n",
    "# random categorical data\n",
    "data = np.random.choice(20, (100, 10))\n",
    "\n",
    "# KModes clustering - Categorical columns only\n",
    "km = KModes(n_clusters=4, n_jobs=-1)\n",
    "kmodes_cluster_ids = km.fit_predict(data)\n",
    "\n",
    "# KPrototypes clustering - Categorical + Continuous columns!\n",
    "kproto = KPrototypes(n_clusters=4, n_jobs=-1)\n",
    "kproto_cluster_ids = kproto.fit_predict(data, categorical=[0, 3, 8, 9])\n",
    "\n",
    "# Print the cluster ids for first 5 data points\n",
    "print(kmodes_cluster_ids[:5])\n",
    "print(kproto_cluster_ids[:5])"
   ]
  },
  {
   "cell_type": "code",
   "execution_count": null,
   "id": "199fdd9a-1a78-4de5-836a-8ae957af6a2d",
   "metadata": {},
   "outputs": [],
   "source": []
  }
 ],
 "metadata": {
  "kernelspec": {
   "display_name": "Python 3 (ipykernel)",
   "language": "python",
   "name": "python3"
  },
  "language_info": {
   "codemirror_mode": {
    "name": "ipython",
    "version": 3
   },
   "file_extension": ".py",
   "mimetype": "text/x-python",
   "name": "python",
   "nbconvert_exporter": "python",
   "pygments_lexer": "ipython3",
   "version": "3.9.13"
  }
 },
 "nbformat": 4,
 "nbformat_minor": 5
}