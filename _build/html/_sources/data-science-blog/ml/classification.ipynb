{
 "cells": [
  {
   "cell_type": "markdown",
   "id": "cf2ed08e-efc0-4246-9ee6-d201e8d1890c",
   "metadata": {},
   "source": [
    "# 💠 Classification"
   ]
  },
  {
   "cell_type": "markdown",
   "id": "8012e4bc-586c-4b16-95b9-509e1b99ad72",
   "metadata": {},
   "source": [
    "## 🏏 Multi-label Classification Stratified Split\n",
    "\n",
    "Iterative Stratification: Easily stratify the train test split for multi-label classification problems\n",
    "\n",
    "- In machine learning classification problems, when your input data has imbalanced classes, it's necessary to stratify the train-test split so that we maintain the proportion of the minority class in both the train and test splits.\n",
    "- Unfortunately, sklearn's train_test_split only allows stratified splits for single-label classification and does not support multiple labels.\n",
    "\n",
    "Enter iterative-stratification:\n",
    "\n",
    "- Stratify the train test split across multiple labels concurrently\n",
    "- With K-Fold cross-validation!\n",
    "- Compatible with sklearn\n",
    "\n",
    "`pip install iterative-stratification`\n",
    "\n",
    "🌟 Github: https://github.com/trent-b/iterative-stratification\n",
    "\n",
    "#datascience #dataanalytics #machinelearning #python\n",
    "\n",
    "```{image} images/classification/Repos-iterative-stratification.png\n",
    ":alt: multi-label stratified split\n",
    ":class: bg-primary mb-1\n",
    ":width: 100%\n",
    ":align: center\n",
    "```"
   ]
  },
  {
   "cell_type": "code",
   "execution_count": 1,
   "id": "1216458b-af83-4b95-b765-99d9c52a976a",
   "metadata": {},
   "outputs": [],
   "source": [
    "import pandas as pd\n",
    "from iterstrat.ml_stratifiers import MultilabelStratifiedKFold\n",
    "from sklearn.datasets import make_multilabel_classification\n",
    "\n",
    "\n",
    "def y_proportions(y):\n",
    "    df = pd.DataFrame(y)\n",
    "    return df.apply(pd.value_counts)\n",
    "\n",
    "\n",
    "# Create dummy multi-label data\n",
    "X, y = make_multilabel_classification(n_samples=10_000, random_state=1)\n",
    "\n",
    "# Stratified K-Fold split\n",
    "mskf = MultilabelStratifiedKFold(n_splits=3, shuffle=True)\n",
    "\n",
    "for train_index, test_index in mskf.split(X, y):\n",
    "    X_train, X_test = X[train_index], X[test_index]\n",
    "    y_train, y_test = y[train_index], y[test_index]\n",
    "\n",
    "    # TODO: Fit and score model"
   ]
  },
  {
   "cell_type": "code",
   "execution_count": 2,
   "id": "b61edc2f-c177-4461-821f-6754a780d85f",
   "metadata": {},
   "outputs": [
    {
     "name": "stdout",
     "output_type": "stream",
     "text": [
      "      0     1     2     3     4\n",
      "0  4875  3619  9651  5627  7120\n",
      "1  5125  6381   349  4373  2880\n"
     ]
    }
   ],
   "source": [
    "# Overall\n",
    "print(y_proportions(y))"
   ]
  },
  {
   "cell_type": "code",
   "execution_count": 3,
   "id": "9f31c788-6933-4c88-b482-103c27a1e70b",
   "metadata": {},
   "outputs": [
    {
     "name": "stdout",
     "output_type": "stream",
     "text": [
      "      0     1     2     3     4\n",
      "0  3250  2412  6433  3750  4746\n",
      "1  3416  4254   233  2916  1920\n"
     ]
    }
   ],
   "source": [
    "# Train\n",
    "print(y_proportions(y_train))"
   ]
  },
  {
   "cell_type": "code",
   "execution_count": 4,
   "id": "c3768b58-0ae3-4290-954f-89bbffc7ad0f",
   "metadata": {},
   "outputs": [
    {
     "name": "stdout",
     "output_type": "stream",
     "text": [
      "      0     1     2     3     4\n",
      "0  1625  1207  3218  1877  2374\n",
      "1  1709  2127   116  1457   960\n"
     ]
    }
   ],
   "source": [
    "# Test\n",
    "print(y_proportions(y_test))"
   ]
  },
  {
   "cell_type": "code",
   "execution_count": null,
   "id": "c94f73a6-b951-4933-8ea1-3fa1a47dda14",
   "metadata": {},
   "outputs": [],
   "source": []
  }
 ],
 "metadata": {
  "kernelspec": {
   "display_name": "Python 3 (ipykernel)",
   "language": "python",
   "name": "python3"
  },
  "language_info": {
   "codemirror_mode": {
    "name": "ipython",
    "version": 3
   },
   "file_extension": ".py",
   "mimetype": "text/x-python",
   "name": "python",
   "nbconvert_exporter": "python",
   "pygments_lexer": "ipython3",
   "version": "3.9.13"
  }
 },
 "nbformat": 4,
 "nbformat_minor": 5
}
