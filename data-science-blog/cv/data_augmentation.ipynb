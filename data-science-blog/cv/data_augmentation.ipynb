{
 "cells": [
  {
   "cell_type": "markdown",
   "id": "d7fb1de0-9a0a-452c-9ddb-82c8ac4fde1c",
   "metadata": {},
   "source": [
    "# Computer Vision Data Augmentation"
   ]
  },
  {
   "cell_type": "markdown",
   "id": "e545670b-6b5a-443f-8f7a-dd77a0912f72",
   "metadata": {},
   "source": [
    "## Albumentations: Fast computer vision augmentations\n",
    "\n",
    "If you need lightning-fast image augmentations, stick to the albumentations library. It easily outperforms AugLy, imgaug and torchvision by a lot!\n",
    "\n",
    "`pip install albumentations`\n",
    "\n",
    "🌟 GitHub: https://github.com/albumentations-team/albumentations\n",
    "\n",
    "📖 Paper: [Link](https://openaccess.thecvf.com/content/CVPR2022W/ArtOfRobust/papers/Papakipos_AugLy_Data_Augmentations_for_Adversarial_Robustness_CVPRW_2022_paper.pdf)\n",
    "\n",
    "#datascience #machinelearning #computervision #artificialintelligence\n",
    "\n",
    "<iframe width=\"740\" height=\"740\" title=\"Code snippet - albumentations\" src=\"https://snappify.io/embed/0eb6d508-9fe7-4336-aa6f-8b80d403ccb1\" allow=\"clipboard-write\" style=\"border-radius:10px;background:linear-gradient(337deg, #654ea3, #da98b4)\" frameborder=\"0\"></iframe>"
   ]
  },
  {
   "cell_type": "code",
   "execution_count": null,
   "id": "06f53649-8bdd-4e79-8604-8c6bdb80adfa",
   "metadata": {},
   "outputs": [],
   "source": []
  }
 ],
 "metadata": {
  "kernelspec": {
   "display_name": "Python 3 (ipykernel)",
   "language": "python",
   "name": "python3"
  },
  "language_info": {
   "codemirror_mode": {
    "name": "ipython",
    "version": 3
   },
   "file_extension": ".py",
   "mimetype": "text/x-python",
   "name": "python",
   "nbconvert_exporter": "python",
   "pygments_lexer": "ipython3",
   "version": "3.9.13"
  }
 },
 "nbformat": 4,
 "nbformat_minor": 5
}
