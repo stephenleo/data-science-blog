{
 "cells": [
  {
   "cell_type": "markdown",
   "id": "e6d5931c-8dcc-44a1-9fd4-f4fdd89fea5e",
   "metadata": {},
   "source": [
    "# 🔀 Named Entity Resolution"
   ]
  },
  {
   "cell_type": "markdown",
   "id": "057bd34d-f9a0-4531-a534-e5927e523b2b",
   "metadata": {},
   "source": [
    "## Named Entity Linking - 🥔 Spacy OpenTapioca\n",
    "\n",
    "- Named Entity Linking is the task of detecting mentions of entities from a knowledge base in free text\n",
    "- OpenTapioca is a simple and fast Named Entity Linking system for Wikidata\n",
    "- Wikidata is a free knowledge base that contains a variety of information about real world entities.\n",
    "- For example, if you want to know who's Linkedin's parent company, wikidata is the knowledge base to programatically get this information.\n",
    "\n",
    "🌟 Spacy OpenTapioca Github: https://github.com/UB-Mannheim/spacyopentapioca\n",
    "🌟 Pywikibot Github: https://github.com/wikimedia/pywikibot"
   ]
  },
  {
   "cell_type": "code",
   "execution_count": 9,
   "id": "a93eab90-6e89-4743-9475-f3ac120ae862",
   "metadata": {},
   "outputs": [],
   "source": [
    "import spacy\n",
    "from pywikibot.data.sparql import SparqlQuery\n",
    "\n",
    "# Add Spacy OpenTapioca Pipeline to identify the entities\n",
    "nlp = spacy.blank(\"en\")\n",
    "nlp.add_pipe(\"opentapioca\")\n",
    "\n",
    "# Wikidata Sparql to query properties of the entity\n",
    "query = SparqlQuery()\n",
    "property_to_query = \"P749\"  # https://www.wikidata.org/wiki/Wikidata:List_of_properties\n",
    "sparql_query = \"\"\"\n",
    "SELECT ?name ?nameLabel \n",
    "WHERE {{\n",
    "  wd:{wikidata_id} wdt:{property_to_query} ?name.\n",
    "  SERVICE wikibase:label {{ bd:serviceParam wikibase:language \"en\". }}\n",
    "}}\n",
    "\"\"\""
   ]
  },
  {
   "cell_type": "code",
   "execution_count": 10,
   "id": "cdb80475-bf4d-4ea4-89ab-64855b678ad7",
   "metadata": {},
   "outputs": [
    {
     "name": "stdout",
     "output_type": "stream",
     "text": [
      "Entity: LinkedIn\n",
      "    Wikidata ID: Q213660\n",
      "    Desc: social networking website for people in professional occupations\n",
      "    Parent Org: Microsoft\n",
      "\n",
      "--------------------------------------------------\n",
      "\n"
     ]
    }
   ],
   "source": [
    "# Run the entity linking analysis\n",
    "doc = nlp(\"LinkedIn Premium is offered in four tiers\")\n",
    "\n",
    "for span in doc.ents:\n",
    "    print(f\"Entity: {span.text}\")\n",
    "\n",
    "    # From OpenTapioca\n",
    "    wikidata_id = span.kb_id_\n",
    "    print(f\"    Wikidata ID: {wikidata_id}\")\n",
    "    print(f\"    Desc: {span._.description}\")\n",
    "\n",
    "    # From WikiData\n",
    "    for item in query.select(\n",
    "        sparql_query.format(\n",
    "            wikidata_id=wikidata_id, property_to_query=property_to_query\n",
    "        )\n",
    "    ):\n",
    "        print(f\"    Parent Org: {item['nameLabel']}\")\n",
    "\n",
    "    print(\"\\n--------------------------------------------------\\n\")"
   ]
  },
  {
   "cell_type": "code",
   "execution_count": null,
   "id": "01c72078-5fba-43d5-b81f-8b39b2488ae6",
   "metadata": {},
   "outputs": [],
   "source": []
  }
 ],
 "metadata": {
  "kernelspec": {
   "display_name": "Python 3 (ipykernel)",
   "language": "python",
   "name": "python3"
  },
  "language_info": {
   "codemirror_mode": {
    "name": "ipython",
    "version": 3
   },
   "file_extension": ".py",
   "mimetype": "text/x-python",
   "name": "python",
   "nbconvert_exporter": "python",
   "pygments_lexer": "ipython3",
   "version": "3.9.13"
  }
 },
 "nbformat": 4,
 "nbformat_minor": 5
}
