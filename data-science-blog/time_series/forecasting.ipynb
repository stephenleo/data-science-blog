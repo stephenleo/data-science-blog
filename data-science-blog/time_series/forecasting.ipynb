{
 "cells": [
  {
   "cell_type": "markdown",
   "id": "ae327574-cab5-4740-8138-9fafb2cc09ee",
   "metadata": {},
   "source": [
    "# 🔮 Forecasting"
   ]
  },
  {
   "cell_type": "code",
   "execution_count": null,
   "id": "ee146f54-7c6d-4f66-ba3b-912154460a56",
   "metadata": {},
   "outputs": [],
   "source": []
  }
 ],
 "metadata": {
  "kernelspec": {
   "display_name": "Python 3 (ipykernel)",
   "language": "python",
   "name": "python3"
  },
  "language_info": {
   "codemirror_mode": {
    "name": "ipython",
    "version": 3
   },
   "file_extension": ".py",
   "mimetype": "text/x-python",
   "name": "python",
   "nbconvert_exporter": "python",
   "pygments_lexer": "ipython3",
   "version": "3.9.13"
  }
 },
 "nbformat": 4,
 "nbformat_minor": 5
}
