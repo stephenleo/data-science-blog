{
 "cells": [
  {
   "cell_type": "markdown",
   "id": "cf2ed08e-efc0-4246-9ee6-d201e8d1890c",
   "metadata": {},
   "source": [
    "# Classification"
   ]
  },
  {
   "cell_type": "markdown",
   "id": "8012e4bc-586c-4b16-95b9-509e1b99ad72",
   "metadata": {},
   "source": [
    "## Multi-label Classification Stratified Split\n",
    "\n",
    "Iterative Stratification: Easily stratify the train test split for multi-label classification problems\n",
    "\n",
    "- In machine learning classification problems, when your input data has imbalanced classes, it's necessary to stratify the train-test split so that we maintain the proportion of the minority class in both the train and test splits.\n",
    "- Unfortunately, sklearn's train_test_split only allows stratified splits for single-label classification and does not support multiple labels.\n",
    "\n",
    "Enter iterative-stratification:\n",
    "\n",
    "- Stratify the train test split across multiple labels concurrently\n",
    "- With K-Fold cross-validation!\n",
    "- Compatible with sklearn\n",
    "\n",
    "`pip install iterative-stratification`\n",
    "\n",
    "🌟 Github: https://github.com/trent-b/iterative-stratification\n",
    "\n",
    "#datascience #dataanalytics #machinelearning #python\n",
    "\n",
    "<iframe width=\"740\" height=\"483\" title=\"Code snippet - iterative-stratification\" src=\"https://snappify.io/embed/a6dde5ec-806e-40c7-9125-d540ff350738\" allow=\"clipboard-write\" style=\"border-radius:10px;background:linear-gradient(337deg, #654ea3, #da98b4)\" frameborder=\"0\"></iframe>"
   ]
  },
  {
   "cell_type": "markdown",
   "id": "f9f74f11-7ab8-430c-8505-59702ff27751",
   "metadata": {},
   "source": [
    "## Efficient Metrics Calculation\n",
    "Typically when you want to calculate multiple metrics for a machine learning model, you’d import and run them one by one. \n",
    "\n",
    "Instead, you can refactor your code to calculate multiple metrics with a single get_scorer method, as shown in the image.\n",
    "\n",
    "You could move metrics_list to a config.yml so that we can change the metrics calculated without changing any code!\n",
    "\n",
    "#datascience #dataanalytics #dataengineering #machinelearning #python\n",
    "\n",
    "<iframe width=\"740\" height=\"575\" title=\"Code snippet - get_scorer\" src=\"https://snappify.io/embed/f377977b-6c54-4ab1-b7a1-94daa7766ca5\" allow=\"clipboard-write\" style=\"border-radius:10px;background:linear-gradient(337deg, #654ea3, #da98b4)\" frameborder=\"0\"></iframe>"
   ]
  },
  {
   "cell_type": "markdown",
   "id": "a1a6a0dd",
   "metadata": {},
   "source": []
  }
 ],
 "metadata": {
  "kernelspec": {
   "display_name": "Python 3 (ipykernel)",
   "language": "python",
   "name": "python3"
  },
  "language_info": {
   "codemirror_mode": {
    "name": "ipython",
    "version": 3
   },
   "file_extension": ".py",
   "mimetype": "text/x-python",
   "name": "python",
   "nbconvert_exporter": "python",
   "pygments_lexer": "ipython3",
   "version": "3.9.13"
  }
 },
 "nbformat": 4,
 "nbformat_minor": 5
}
