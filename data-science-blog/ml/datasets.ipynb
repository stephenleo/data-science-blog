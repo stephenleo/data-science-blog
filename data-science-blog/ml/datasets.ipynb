{
 "cells": [
  {
   "cell_type": "markdown",
   "id": "21350541-51ab-4c27-8b79-d144945baea6",
   "metadata": {},
   "source": [
    "# 🗄️ Datasets"
   ]
  },
  {
   "cell_type": "markdown",
   "id": "4d5e5d19-acc4-469d-9e1d-37c665546f7f",
   "metadata": {},
   "source": [
    "## 📥 Download datasets for Machine Learning projects\n",
    "\n",
    "Top 5 ways to find datasets for your next Machine Learning project! \n",
    "\n",
    "Super convenient for those looking to build up a project portfolio to showcase to prospective hiring managers.\n",
    "\n",
    "1. Kaggle: [https://www.kaggle.com/datasets](https://www.kaggle.com/datasets)\n",
    "2. Papers with code: [https://paperswithcode.com/datasets](https://paperswithcode.com/datasets). \n",
    "3. UCI machine learning repository: [http://archive.ics.uci.edu/ml/datasets.php](http://archive.ics.uci.edu/ml/datasets.php)\n",
    "4. Huggingface datasets library: [https://huggingface.co/datasets](https://huggingface.co/datasets). The most convenient with a standard interface. `pip install datasets`. See image.\n",
    "5. Google dataset search: [https://datasetsearch.research.google.com/](https://datasetsearch.research.google.com/). Search for any kind of dataset across the entire internet.\n",
    "\n",
    "Of course, for the closest experience into what real-world Data Science would look like, you should scrape the data by yourself from the internet, but hey, it's fun to play with a clean dataset!\n",
    "\n",
    "Do you know any other good sources of datasets? Pls, let me know in the comments!\n",
    "\n",
    "I regularly post about practical and applied data science. If you like my posts, let's connect here or on Twitter @MarieStephenLeo!\n",
    "\n",
    "#datascience #dataanalytics #machinelearning #python #learning #career\n",
    "\n",
    "```{image} images/datasets/Repos-datasets.png\n",
    ":alt: datasets\n",
    ":class: bg-primary mb-1\n",
    ":width: 100%\n",
    ":align: center\n",
    "```"
   ]
  },
  {
   "cell_type": "code",
   "execution_count": 16,
   "id": "e39c526d-df72-4d29-a053-c3484ca56507",
   "metadata": {},
   "outputs": [
    {
     "name": "stderr",
     "output_type": "stream",
     "text": [
      "Using custom data configuration default\n",
      "Reusing dataset ag_news (/Users/e057788/.cache/huggingface/datasets/ag_news/default/0.0.0/bc2bcb40336ace1a0374767fc29bb0296cdaf8a6da7298436239c54d79180548)\n"
     ]
    },
    {
     "data": {
      "application/vnd.jupyter.widget-view+json": {
       "model_id": "7da41072dcc54e80a712a87a78e6c0e4",
       "version_major": 2,
       "version_minor": 0
      },
      "text/plain": [
       "  0%|          | 0/2 [00:00<?, ?it/s]"
      ]
     },
     "metadata": {},
     "output_type": "display_data"
    },
    {
     "data": {
      "text/html": [
       "<div>\n",
       "<style scoped>\n",
       "    .dataframe tbody tr th:only-of-type {\n",
       "        vertical-align: middle;\n",
       "    }\n",
       "\n",
       "    .dataframe tbody tr th {\n",
       "        vertical-align: top;\n",
       "    }\n",
       "\n",
       "    .dataframe thead th {\n",
       "        text-align: right;\n",
       "    }\n",
       "</style>\n",
       "<table border=\"1\" class=\"dataframe\">\n",
       "  <thead>\n",
       "    <tr style=\"text-align: right;\">\n",
       "      <th></th>\n",
       "      <th>text</th>\n",
       "      <th>label</th>\n",
       "    </tr>\n",
       "  </thead>\n",
       "  <tbody>\n",
       "    <tr>\n",
       "      <th>0</th>\n",
       "      <td>Wall St. Bears Claw Back Into the Black (Reute...</td>\n",
       "      <td>2</td>\n",
       "    </tr>\n",
       "    <tr>\n",
       "      <th>1</th>\n",
       "      <td>Carlyle Looks Toward Commercial Aerospace (Reu...</td>\n",
       "      <td>2</td>\n",
       "    </tr>\n",
       "    <tr>\n",
       "      <th>2</th>\n",
       "      <td>Oil and Economy Cloud Stocks' Outlook (Reuters...</td>\n",
       "      <td>2</td>\n",
       "    </tr>\n",
       "    <tr>\n",
       "      <th>3</th>\n",
       "      <td>Iraq Halts Oil Exports from Main Southern Pipe...</td>\n",
       "      <td>2</td>\n",
       "    </tr>\n",
       "    <tr>\n",
       "      <th>4</th>\n",
       "      <td>Oil prices soar to all-time record, posing new...</td>\n",
       "      <td>2</td>\n",
       "    </tr>\n",
       "  </tbody>\n",
       "</table>\n",
       "</div>"
      ],
      "text/plain": [
       "                                                text  label\n",
       "0  Wall St. Bears Claw Back Into the Black (Reute...      2\n",
       "1  Carlyle Looks Toward Commercial Aerospace (Reu...      2\n",
       "2  Oil and Economy Cloud Stocks' Outlook (Reuters...      2\n",
       "3  Iraq Halts Oil Exports from Main Southern Pipe...      2\n",
       "4  Oil prices soar to all-time record, posing new...      2"
      ]
     },
     "execution_count": 16,
     "metadata": {},
     "output_type": "execute_result"
    }
   ],
   "source": [
    "# Import\n",
    "import pandas as pd\n",
    "from datasets import load_dataset\n",
    "\n",
    "# Download the data\n",
    "dataset = load_dataset(\"ag_news\")\n",
    "\n",
    "# Convert to dataframe\n",
    "train_df = pd.DataFrame(dataset[\"train\"])\n",
    "test_df = pd.DataFrame(dataset[\"test\"])\n",
    "\n",
    "train_df.head()"
   ]
  },
  {
   "cell_type": "code",
   "execution_count": null,
   "id": "20b78034-e897-4507-b467-b912848d1fb4",
   "metadata": {},
   "outputs": [],
   "source": []
  }
 ],
 "metadata": {
  "kernelspec": {
   "display_name": "Python 3 (ipykernel)",
   "language": "python",
   "name": "python3"
  },
  "language_info": {
   "codemirror_mode": {
    "name": "ipython",
    "version": 3
   },
   "file_extension": ".py",
   "mimetype": "text/x-python",
   "name": "python",
   "nbconvert_exporter": "python",
   "pygments_lexer": "ipython3",
   "version": "3.9.13"
  }
 },
 "nbformat": 4,
 "nbformat_minor": 5
}
