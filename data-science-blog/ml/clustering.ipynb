{
 "cells": [
  {
   "cell_type": "markdown",
   "id": "a8a699e2-dfaf-461b-aa05-2ba272ebad5e",
   "metadata": {},
   "source": [
    "# 🍇 Clustering\n",
    "Unsupervised grouping of related items"
   ]
  },
  {
   "cell_type": "markdown",
   "id": "12d9b703-c636-476e-9643-ad8f9b5619ee",
   "metadata": {},
   "source": [
    "## 🍢 KModes: Clustering of Categorical Data\n",
    "\n",
    "KModes: Clustering of Categorical Data WITHOUT One-Hot encoding!\n",
    "\n",
    "- KMeans clustering using Euclidean distance to find clusters so you need to one-hot encode all categorical data\n",
    "- In KModes clustering, you can directly cluster categorical data without one-hot encoding!\n",
    "- KModes uses the number of dissimilar values between two categorical vectors as a distance metric to assign each data point to its nearest cluster at each clustering step.\n",
    "- Mode is the most observed value for each column in the cluster\n",
    "- Implement in one line of code!\n",
    "- It also supports the K-Prototypes algorithm for combining k-modes and k-means on mixed categorical + numerical data.\n",
    "\n",
    "`pip install kmodes`\n",
    "\n",
    "🌟 Github: [https://github.com/nicodv/kmodes](https://github.com/nicodv/kmodes)\n",
    "\n",
    "<iframe width=\"740\" height=\"480\" title=\"Code snippet - kmodes\" src=\"https://snappify.io/embed/c9b463e2-e263-4d94-a5f5-da9c4694a148\" allow=\"clipboard-write\" style=\"border-radius:10px;background:linear-gradient(337deg, #654ea3, #da98b4)\" frameborder=\"0\"></iframe>"
   ]
  },
  {
   "cell_type": "code",
   "execution_count": null,
   "id": "199fdd9a-1a78-4de5-836a-8ae957af6a2d",
   "metadata": {},
   "outputs": [],
   "source": []
  }
 ],
 "metadata": {
  "kernelspec": {
   "display_name": "Python 3 (ipykernel)",
   "language": "python",
   "name": "python3"
  },
  "language_info": {
   "codemirror_mode": {
    "name": "ipython",
    "version": 3
   },
   "file_extension": ".py",
   "mimetype": "text/x-python",
   "name": "python",
   "nbconvert_exporter": "python",
   "pygments_lexer": "ipython3",
   "version": "3.9.13"
  }
 },
 "nbformat": 4,
 "nbformat_minor": 5
}
