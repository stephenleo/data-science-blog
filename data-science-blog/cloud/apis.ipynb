{
 "cells": [
  {
   "cell_type": "markdown",
   "id": "c05c1851-6c1f-4bbf-abdb-2adc1dfa79c1",
   "metadata": {},
   "source": [
    "# Application Programming Interface (API)"
   ]
  },
  {
   "cell_type": "markdown",
   "id": "a8134d03-1cf5-494c-8452-9bd62aeac1b2",
   "metadata": {},
   "source": [
    "## JSON Lines\n",
    "\n",
    "The JSON format is one of the most popular ways of transmitting information over any network. Why is this important for a Data Scientist?\n",
    "\n",
    "- When you deploy a model as an endpoint, you will probably send and receive data from the deployed model in JSON format.\n",
    "\n",
    "There are many ways to construct a JSON string. The best way, in my opinion, is to use the JSON lines format.\n",
    "\n",
    "- Directly convert to and from Pandas dataframes!\n",
    "- One line is one row of data. No ambiguity about how to split rows!\n",
    "- Very readable where each key is the column name, and each value is the value of the row in that column. No ambiguity about which value belongs to which feature!\n",
    "- Easy to parallelize (e.g., using Sagemaker Batch Transform) since we can send each line to a different machine for inference.\n",
    "\n",
    "While deploying ML models (e.g., in Sagemaker), you need to handle converting to and from the JSON object. So keeping your deployment consistent with JSON lines format will make your life much easier and unambiguous.\n",
    "\n",
    "#mlops #datascience #dataanalytics #dataengineering #aws #sagemaker #gcp #azure #python\n",
    "\n",
    "<iframe width=\"740\" height=\"575\" title=\"Code snippet - json_lines\" src=\"https://snappify.io/embed/6f162780-cc5c-4ea5-bad8-9a183b12a2d6\" allow=\"clipboard-write\" style=\"border-radius:10px;background:linear-gradient(354deg,  #FF75B5, #FFB86C)\" frameborder=\"0\"></iframe>"
   ]
  },
  {
   "cell_type": "code",
   "execution_count": null,
   "id": "7761e726-0f3d-400d-a32c-b7562233468b",
   "metadata": {},
   "outputs": [],
   "source": []
  }
 ],
 "metadata": {
  "kernelspec": {
   "display_name": "Python 3 (ipykernel)",
   "language": "python",
   "name": "python3"
  },
  "language_info": {
   "codemirror_mode": {
    "name": "ipython",
    "version": 3
   },
   "file_extension": ".py",
   "mimetype": "text/x-python",
   "name": "python",
   "nbconvert_exporter": "python",
   "pygments_lexer": "ipython3",
   "version": "3.9.13"
  }
 },
 "nbformat": 4,
 "nbformat_minor": 5
}
