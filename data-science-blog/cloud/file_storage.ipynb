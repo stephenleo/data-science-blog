{
 "cells": [
  {
   "cell_type": "markdown",
   "id": "20277783-288c-4765-b851-b175f36476d9",
   "metadata": {},
   "source": [
    "# 🗄️ File Storage (S3, GCS, etc)"
   ]
  },
  {
   "cell_type": "markdown",
   "id": "d158e125-a57c-4a70-834c-3111da00274d",
   "metadata": {},
   "source": [
    "## 📭 Smart Open\n",
    "Smart Open: Easiest way to read and write files from storage such as S3, GCS, Azure Blob Storage, HDFS, local filesystem, etc. \n",
    "\n",
    "- Drop-in replacement from python’s open()\n",
    "- On-the-fly decompression for a variety of different formats (.gz, .bz2)\n",
    "- Easily iterate over S3 bucket contents with iter_bucket()\n",
    "- Skip the boilerplate!\n",
    "\n",
    "`pip install smart-open`\n",
    "\n",
    "🌟 Github: https://github.com/RaRe-Technologies/smart_open\n",
    "\n",
    "📖 More examples: https://github.com/RaRe-Technologies/smart_open/blob/develop/howto.md\n",
    "\n",
    "\n",
    "#datascience #dataanalytics #dataengineering #aws #gcp #azure #python\n",
    "\n",
    "\n",
    "<iframe width=\"740\" height=\"575\" title=\"Code snippet - smart_open\" src=\"https://snappify.io/embed/3f153f9c-3222-499d-bf73-e2f726fa693c\" allow=\"clipboard-write\" style=\"border-radius:10px;background:linear-gradient(337deg, #654ea3, #da98b4)\" frameborder=\"0\"></iframe>"
   ]
  },
  {
   "cell_type": "code",
   "execution_count": null,
   "id": "0d986b00-c779-4ce9-a47f-5996b3c4c1d5",
   "metadata": {},
   "outputs": [],
   "source": []
  }
 ],
 "metadata": {
  "kernelspec": {
   "display_name": "Python 3 (ipykernel)",
   "language": "python",
   "name": "python3"
  },
  "language_info": {
   "codemirror_mode": {
    "name": "ipython",
    "version": 3
   },
   "file_extension": ".py",
   "mimetype": "text/x-python",
   "name": "python",
   "nbconvert_exporter": "python",
   "pygments_lexer": "ipython3",
   "version": "3.9.13"
  }
 },
 "nbformat": 4,
 "nbformat_minor": 5
}
