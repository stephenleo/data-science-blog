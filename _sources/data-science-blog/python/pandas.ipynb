{
 "cells": [
  {
   "cell_type": "markdown",
   "id": "495654dc-c412-4117-a93c-74330d7457be",
   "metadata": {},
   "source": [
    "# 🐼 Pandas"
   ]
  },
  {
   "cell_type": "markdown",
   "id": "ff9d3c77-4dfa-41d3-979d-d95d7e552650",
   "metadata": {},
   "source": [
    "# 🧑‍🎓 Learning Pandas\n",
    "\n",
    "The best way to learn Pandas (as an Excel practitioner):\n",
    "\n",
    "- Pandas is the de-facto standard library for working with tabular data in Python\n",
    "- I learnt Pandas by replicating my work from Excel and other spreadsheet-based software (anyone used JMP before?)\n",
    "- “Transfer Learning”: Once you know how Excel maps to Pandas, you transfer your wealth of Excel knowledge directly into Pandas. These are transferrable skills!\n",
    "- Ensures you’re doing the correct thing by comparing outputs of operations between Excel and Pandas. It boosted my confidence a lot in the initial days!\n",
    "- Learn Python while automating your work!\n",
    "\n",
    "`pip install pandas`\n",
    "\n",
    "📖 Pandas for Excel practitioners: [https://pandas.pydata.org/docs/getting_started/comparison/comparison_with_spreadsheets.html#compare-with-spreadsheets](https://pandas.pydata.org/docs/getting_started/comparison/comparison_with_spreadsheets.html#compare-with-spreadsheets)\n",
    "\n",
    "I regularly post about practical and applied data science. If you like my posts, let’s connect here or on Twitter @MarieStephenLeo!\n",
    "\n",
    "#datascience #dataanalytics #dataengineering #pandas #python #programming\n",
    "\n",
    "```{image} images/pandas/Tips-learning_pandas.png\n",
    ":alt: learning_pandas\n",
    ":class: bg-primary mb-1\n",
    ":width: 100%\n",
    ":align: center\n",
    "```"
   ]
  },
  {
   "cell_type": "code",
   "execution_count": 8,
   "id": "72989907-8140-41ff-b8c0-01e24dc9b2c7",
   "metadata": {},
   "outputs": [
    {
     "data": {
      "text/html": [
       "<div>\n",
       "<style scoped>\n",
       "    .dataframe tbody tr th:only-of-type {\n",
       "        vertical-align: middle;\n",
       "    }\n",
       "\n",
       "    .dataframe tbody tr th {\n",
       "        vertical-align: top;\n",
       "    }\n",
       "\n",
       "    .dataframe thead th {\n",
       "        text-align: right;\n",
       "    }\n",
       "</style>\n",
       "<table border=\"1\" class=\"dataframe\">\n",
       "  <thead>\n",
       "    <tr style=\"text-align: right;\">\n",
       "      <th>sex</th>\n",
       "      <th>Female</th>\n",
       "      <th>Male</th>\n",
       "    </tr>\n",
       "    <tr>\n",
       "      <th>size</th>\n",
       "      <th></th>\n",
       "      <th></th>\n",
       "    </tr>\n",
       "  </thead>\n",
       "  <tbody>\n",
       "    <tr>\n",
       "      <th>1</th>\n",
       "      <td>1.276667</td>\n",
       "      <td>1.920000</td>\n",
       "    </tr>\n",
       "    <tr>\n",
       "      <th>2</th>\n",
       "      <td>2.528448</td>\n",
       "      <td>2.614184</td>\n",
       "    </tr>\n",
       "    <tr>\n",
       "      <th>3</th>\n",
       "      <td>3.250000</td>\n",
       "      <td>3.476667</td>\n",
       "    </tr>\n",
       "    <tr>\n",
       "      <th>4</th>\n",
       "      <td>4.021111</td>\n",
       "      <td>4.172143</td>\n",
       "    </tr>\n",
       "    <tr>\n",
       "      <th>5</th>\n",
       "      <td>5.140000</td>\n",
       "      <td>3.750000</td>\n",
       "    </tr>\n",
       "    <tr>\n",
       "      <th>6</th>\n",
       "      <td>4.600000</td>\n",
       "      <td>5.850000</td>\n",
       "    </tr>\n",
       "  </tbody>\n",
       "</table>\n",
       "</div>"
      ],
      "text/plain": [
       "sex     Female      Male\n",
       "size                    \n",
       "1     1.276667  1.920000\n",
       "2     2.528448  2.614184\n",
       "3     3.250000  3.476667\n",
       "4     4.021111  4.172143\n",
       "5     5.140000  3.750000\n",
       "6     4.600000  5.850000"
      ]
     },
     "execution_count": 8,
     "metadata": {},
     "output_type": "execute_result"
    }
   ],
   "source": [
    "import pandas as pd\n",
    "\n",
    "url = \"https://raw.github.com/pandas-dev/pandas/main/pandas/tests/io/data/csv/tips.csv\"\n",
    "\n",
    "tips = pd.read_csv(url)\n",
    "tips_pivot = tips.pivot_table(\n",
    "    values=\"tip\", index=[\"size\"], columns=[\"sex\"], aggfunc=\"mean\"\n",
    ")"
   ]
  },
  {
   "cell_type": "code",
   "execution_count": null,
   "id": "7bed6422-b4d6-4152-b1d7-39fce31f63bc",
   "metadata": {},
   "outputs": [],
   "source": []
  }
 ],
 "metadata": {
  "kernelspec": {
   "display_name": "Python 3 (ipykernel)",
   "language": "python",
   "name": "python3"
  },
  "language_info": {
   "codemirror_mode": {
    "name": "ipython",
    "version": 3
   },
   "file_extension": ".py",
   "mimetype": "text/x-python",
   "name": "python",
   "nbconvert_exporter": "python",
   "pygments_lexer": "ipython3",
   "version": "3.9.13"
  }
 },
 "nbformat": 4,
 "nbformat_minor": 5
}
