{
 "cells": [
  {
   "cell_type": "markdown",
   "id": "495654dc-c412-4117-a93c-74330d7457be",
   "metadata": {},
   "source": [
    "# Pandas"
   ]
  },
  {
   "cell_type": "markdown",
   "id": "ff9d3c77-4dfa-41d3-979d-d95d7e552650",
   "metadata": {},
   "source": [
    "## Learning Pandas\n",
    "\n",
    "The best way to learn Pandas (as an Excel practitioner):\n",
    "\n",
    "- Pandas is the de-facto standard library for working with tabular data in Python\n",
    "- I learnt Pandas by replicating my work from Excel and other spreadsheet-based software (anyone used JMP before?)\n",
    "- “Transfer Learning”: Once you know how Excel maps to Pandas, you transfer your wealth of Excel knowledge directly into Pandas. These are transferrable skills!\n",
    "- Ensures you’re doing the correct thing by comparing outputs of operations between Excel and Pandas. It boosted my confidence a lot in the initial days!\n",
    "- Learn Python while automating your work!\n",
    "\n",
    "`pip install pandas`\n",
    "\n",
    "📖 Pandas for Excel practitioners: [https://pandas.pydata.org/docs/getting_started/comparison/comparison_with_spreadsheets.html#compare-with-spreadsheets](https://pandas.pydata.org/docs/getting_started/comparison/comparison_with_spreadsheets.html#compare-with-spreadsheets)\n",
    "\n",
    "Sample data: https://raw.github.com/pandas-dev/pandas/main/pandas/tests/io/data/csv/tips.csv\n",
    "\n",
    "#datascience #dataanalytics #dataengineering #pandas #python #programming\n",
    "\n",
    "<iframe width=\"740\" height=\"575\" title=\"Code snippet - learning_pandas\" src=\"https://snappify.io/embed/eeddc3ab-3624-4eae-8c37-35492d267c65\" allow=\"clipboard-write\" style=\"border-radius:10px;background:linear-gradient(354deg,  #FF75B5, #FFB86C)\" frameborder=\"0\"></iframe>"
   ]
  },
  {
   "cell_type": "code",
   "execution_count": null,
   "id": "7bed6422-b4d6-4152-b1d7-39fce31f63bc",
   "metadata": {},
   "outputs": [],
   "source": []
  }
 ],
 "metadata": {
  "kernelspec": {
   "display_name": "Python 3.8.9 64-bit",
   "language": "python",
   "name": "python3"
  },
  "language_info": {
   "codemirror_mode": {
    "name": "ipython",
    "version": 3
   },
   "file_extension": ".py",
   "mimetype": "text/x-python",
   "name": "python",
   "nbconvert_exporter": "python",
   "pygments_lexer": "ipython3",
   "version": "3.8.9"
  },
  "vscode": {
   "interpreter": {
    "hash": "31f2aee4e71d21fbe5cf8b01ff0e069b9275f58929596ceb00d14d90e3e16cd6"
   }
  }
 },
 "nbformat": 4,
 "nbformat_minor": 5
}
