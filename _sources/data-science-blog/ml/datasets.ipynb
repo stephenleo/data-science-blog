{
 "cells": [
  {
   "cell_type": "markdown",
   "id": "21350541-51ab-4c27-8b79-d144945baea6",
   "metadata": {},
   "source": [
    "# 🗄️ Datasets"
   ]
  },
  {
   "cell_type": "markdown",
   "id": "4d5e5d19-acc4-469d-9e1d-37c665546f7f",
   "metadata": {},
   "source": [
    "## 📥 Download datasets for Machine Learning projects\n",
    "\n",
    "Top 5 ways to find datasets for your next Machine Learning project! \n",
    "\n",
    "Super convenient for those looking to build up a project portfolio to showcase to prospective hiring managers.\n",
    "\n",
    "1. Kaggle: [https://www.kaggle.com/datasets](https://www.kaggle.com/datasets)\n",
    "2. Papers with code: [https://paperswithcode.com/datasets](https://paperswithcode.com/datasets). \n",
    "3. UCI machine learning repository: [http://archive.ics.uci.edu/ml/datasets.php](http://archive.ics.uci.edu/ml/datasets.php)\n",
    "4. Huggingface datasets library: [https://huggingface.co/datasets](https://huggingface.co/datasets). The most convenient with a standard interface. `pip install datasets`. See image.\n",
    "5. Google dataset search: [https://datasetsearch.research.google.com/](https://datasetsearch.research.google.com/). Search for any kind of dataset across the entire internet.\n",
    "\n",
    "Of course, for the closest experience into what real-world Data Science would look like, you should scrape the data by yourself from the internet, but hey, it's fun to play with a clean dataset!\n",
    "\n",
    "Do you know any other good sources of datasets? Pls, let me know in the comments!\n",
    "\n",
    "I regularly post about practical and applied data science. If you like my posts, let's connect here or on Twitter @MarieStephenLeo!\n",
    "\n",
    "#datascience #dataanalytics #machinelearning #python #learning #career\n",
    "\n",
    "<iframe width=\"658\" height=\"623\" title=\"Code snippet - datasets\" src=\"https://snappify.io/embed/e766a46b-eefa-4824-8c07-cb85aa3d8726\" allow=\"clipboard-write\" style=\"border-radius:10px;background:linear-gradient(337deg, #654ea3, #da98b4)\" frameborder=\"0\"></iframe>"
   ]
  },
  {
   "cell_type": "code",
   "execution_count": null,
   "id": "20b78034-e897-4507-b467-b912848d1fb4",
   "metadata": {},
   "outputs": [],
   "source": []
  }
 ],
 "metadata": {
  "kernelspec": {
   "display_name": "Python 3 (ipykernel)",
   "language": "python",
   "name": "python3"
  },
  "language_info": {
   "codemirror_mode": {
    "name": "ipython",
    "version": 3
   },
   "file_extension": ".py",
   "mimetype": "text/x-python",
   "name": "python",
   "nbconvert_exporter": "python",
   "pygments_lexer": "ipython3",
   "version": "3.9.13"
  }
 },
 "nbformat": 4,
 "nbformat_minor": 5
}
