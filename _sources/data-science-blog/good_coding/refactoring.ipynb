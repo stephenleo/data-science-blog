{
 "cells": [
  {
   "cell_type": "markdown",
   "metadata": {},
   "source": [
    "# 🔩 Refactoring"
   ]
  },
  {
   "cell_type": "markdown",
   "metadata": {},
   "source": [
    "## 🧹 Sourcery: Automated code refactoring!\n",
    "\n",
    "- Real-time refactoring suggestions with one-click updates\n",
    "- Code quality feedback\n",
    "- Refactoring explanations to make you a better programmer!\n",
    "- Star the repo to get an automated refactoring PR on your most popular repos!\n",
    "- VSCode Extension\n",
    "\n",
    "🌟 Github: [https://github.com/sourcery-ai/sourcery](Sourcery)\n",
    "\n",
    "🔥 VSCode/ Pycharm extensions: [https://sourcery.ai/](https://sourcery.ai/)\n",
    "\n",
    "💯 Supported Refactorings: [https://docs.sourcery.ai/refactorings/](https://docs.sourcery.ai/refactorings/)\n",
    "\n",
    "#datascience #dataanalytics #coding #github #artificialintelligence\n",
    "\n",
    "<iframe id=\"video\" width=\"560\" height=\"315\" src=\"https://sourcery.ai/static/sourcery-producthunt-3f6370038174e1e118bf13a0785f2d0f.mp4\" frameborder=\"0\" allow=\"autoplay; encrypted-media\" allowfullscreen=\"\"></iframe>"
   ]
  },
  {
   "cell_type": "markdown",
   "metadata": {},
   "source": [
    "## 🎩 Jupyter Magic Commands\n",
    "\n",
    "I have a love-hate relationship with Jupyter notebooks. One of the things I love is magic commands! My top 3 favorite Jupyter notebook magic commands are...\n",
    "\n",
    "1) `%%writefile <filename>` —> Writes the contents of the entire cell into `<filename>` file. Super useful to move all your helper functions to a `utils.py`\n",
    "\n",
    "2) `%%time` —> Measures the execution time of the entire cell and prints it below. Super valuable for benchmark code in different cells\n",
    "\n",
    "3) `%%bash` —> Run the contents of the entire cell as a bash script. Super helpful in environments where you don't have direct access to the terminal, such as in a Colab or Kaggle notebook\n",
    "\n",
    "ℹ️ Jupyter magic commands documentation: [https://ipython.readthedocs.io/en/stable/interactive/magics.html](https://ipython.readthedocs.io/en/stable/interactive/magics.html)\n",
    "\n",
    "#datascience #dataanalytics #dataengineering #python #coding #jupyter\n",
    "    \n",
    "<iframe width=\"740\" height=\"740\" title=\"Code snippet - jupyter_magics\" src=\"https://snappify.io/embed/07ffb1cc-efdd-40c1-9c2d-c97b7fe2b354\" allow=\"clipboard-write\" style=\"border-radius:10px;background:linear-gradient(337deg, #654ea3, #da98b4)\" frameborder=\"0\"></iframe>"
   ]
  },
  {
   "cell_type": "code",
   "execution_count": null,
   "metadata": {},
   "outputs": [],
   "source": []
  }
 ],
 "metadata": {
  "kernelspec": {
   "display_name": "Python 3 (ipykernel)",
   "language": "python",
   "name": "python3"
  },
  "language_info": {
   "codemirror_mode": {
    "name": "ipython",
    "version": 3
   },
   "file_extension": ".py",
   "mimetype": "text/x-python",
   "name": "python",
   "nbconvert_exporter": "python",
   "pygments_lexer": "ipython3",
   "version": "3.9.13"
  },
  "vscode": {
   "interpreter": {
    "hash": "f8b29a6f2d8e00a59334ab65b91de1f870e461e73a072a6e974f15b19ba89b9d"
   }
  }
 },
 "nbformat": 4,
 "nbformat_minor": 4
}
