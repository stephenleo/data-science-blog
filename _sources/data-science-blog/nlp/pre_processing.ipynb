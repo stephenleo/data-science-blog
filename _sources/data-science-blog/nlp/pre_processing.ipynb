{
 "cells": [
  {
   "cell_type": "markdown",
   "id": "863ab630-fecc-480a-990f-3fdef27db761",
   "metadata": {},
   "source": [
    "# Text Pre-Processing\n",
    "- Textual data, especially those scrapped from the internet, can be incredibly messy with tons of inconsistencies\n",
    "- Text pre-processing techniques aim to clean up the text data and prepare it for Machine Learning"
   ]
  },
  {
   "cell_type": "markdown",
   "id": "1826267f-886d-4ccc-be19-21dfd9986f20",
   "metadata": {},
   "source": [
    "## ftfy: fixes text for you\n",
    "One of the most frustrating parts about working with tons of text in the real world is identifying and fixing “noise” in the text such as this\n",
    "\n",
    "🙅 Noisy text: `\"The Mona Lisa doesnÃƒÂ¢Ã¢â€šÂ¬Ã¢â€žÂ¢t have eyebrows.\"` \n",
    "\n",
    "🙆 Actual text: `\"The Mona Lisa doesn't have eyebrows.\"`\n",
    "\n",
    "👉 Enter “ftfy”, a nifty little python library by [Elia Lake](https://www.linkedin.com/in/elia-lake-13277335/) that fixes Unicode text that’s broken in various ways. Take a look at the image below for some examples!\n",
    "\n",
    "✅  Fix multiple layers of mojibake (encoding mix-ups) including “curly quotes”, by detecting patterns of characters that were clearly meant to be UTF-8 but were decoded as something else.\n",
    "\n",
    "✅  Decode HTML entities that appear outside of HTML\n",
    "\n",
    "✅  Strongly avoids false positives (should never change a correctly-decoded text to something else)\n",
    "\n",
    "🚀  Github: https://github.com/rspeer/python-ftfy\n",
    "\n",
    "<iframe width=\"740\" height=\"480\" title=\"Code snippet - ftfy\" src=\"https://snappify.io/embed/d4d6d9bc-9431-49f5-b15c-7fd656eb27b3\" allow=\"clipboard-write\" style=\"border-radius:10px;background:linear-gradient(337deg, #654ea3, #da98b4)\" frameborder=\"0\"></iframe>"
   ]
  },
  {
   "cell_type": "markdown",
   "id": "9ff3eaf2",
   "metadata": {},
   "source": []
  }
 ],
 "metadata": {
  "kernelspec": {
   "display_name": "Python 3.8.9 64-bit",
   "language": "python",
   "name": "python3"
  },
  "language_info": {
   "codemirror_mode": {
    "name": "ipython",
    "version": 3
   },
   "file_extension": ".py",
   "mimetype": "text/x-python",
   "name": "python",
   "nbconvert_exporter": "python",
   "pygments_lexer": "ipython3",
   "version": "3.8.9"
  },
  "vscode": {
   "interpreter": {
    "hash": "31f2aee4e71d21fbe5cf8b01ff0e069b9275f58929596ceb00d14d90e3e16cd6"
   }
  }
 },
 "nbformat": 4,
 "nbformat_minor": 5
}
