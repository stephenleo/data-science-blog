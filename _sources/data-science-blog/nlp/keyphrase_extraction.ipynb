{
 "cells": [
  {
   "cell_type": "markdown",
   "id": "1bd34dfd-8cb7-4fc5-a8fa-6c48adf63a3c",
   "metadata": {},
   "source": [
    "# 🔑 Keyphrase Extraction\n",
    "🤔 Keyphrase extraction is the task of identifying the words and phrases that represent the main topics of a document\n",
    "\n",
    "![](images/keyphrase_extraction/KPE.png)"
   ]
  },
  {
   "cell_type": "markdown",
   "id": "c2826e06-6f61-4708-a9c3-644acfd86797",
   "metadata": {},
   "source": [
    "## 🏆 Old but Gold! \n",
    "\n",
    "[PKE](https://github.com/boudinfl/pke) is an open source keyphrase extraction toolkit that implements several very good statistical and graph based methods. It’s easy to use and provides robust baseline results. \n",
    "\n",
    "Example:\n",
    "📝 Sample text: \"\"\"Mars Rovers Relay Images Through Mars Express European Space Agency -- ESAs Mars Express has relayed pictures from one of NASA's Mars rovers for the first time, as part of a set of interplanetary networking demonstrations. The demonstrations pave the way for future Mars missions to draw on joint interplanetary networking capabilities...\"\"\"\n",
    "\n",
    "🔑 Keyphrases:\n",
    "- rank 0: mars rovers relay images (0.20)\n",
    "- rank 1: mars express european space agency (0.16)\n",
    "- rank 2: interplanetary networking demonstrations (0.09)\n",
    "- rank 3: pictures (0.07)\n",
    "- rank 4: nasa (0.07)\n",
    "\n",
    "🌟 Github: [https://github.com/boudinfl/pke](https://github.com/boudinfl/pke)\n",
    "\n",
    "📖 Paper: [https://aclanthology.org/C16-2015.pdf](https://aclanthology.org/C16-2015.pdf)\n",
    "\n",
    "#nlp #datascience #github"
   ]
  },
  {
   "cell_type": "markdown",
   "id": "dd284b90-18dc-4e84-93ef-263dd3afc4a1",
   "metadata": {},
   "source": [
    "## 📚 Multi-Document Keyphrase Extraction\n",
    "\n",
    "Multi-Document Keyphrase Extraction (MDKE) is the task of extracting important phrases from a collection of documents. \n",
    "\n",
    "- MDKE can help analyze text clustering results to identify the important terms within each cluster of documents.\n",
    "- Contrary to single-document keyphrase extraction (SDKE), which has several well-known methods like RAKE, Text Rank, MultipartiteRank, and KeyBERT, MDKE is relatively under-studied in the literature.\n",
    "- The image below shows an example of SDKE in action.\n",
    "\n",
    "In the paper [\"Multi-Document Keyphrase Extraction: A Literature Review\"](https://lnkd.in/dc_ar8fk), the authors take two single-to-multi-document approaches as described below.\n",
    "\n",
    "- ✅ Concat method: All the documents within a cluster are concatenated into a single big document and fed into the keyphrase extraction algorithm.\n",
    "- ✅ Merge method: For each cluster, the keyphrase extraction algorithm is fed one document at a time, and keyphrases from all the individual documents are merged and ranked in descending order of their document frequency (the number of documents containing the keyphrase)\n",
    "- ✅ There is some cleanup like stemming and de-duplication.\n",
    "\n",
    "In terms of performance on their newly created dataset:\n",
    "- 1️⃣ In general, the Merge method tends to do better across most of the SDKE algorithms tested\n",
    "- 2️⃣ MultipartiteRank seems to be the best BUT is very slow and not very scalable in production\n",
    "\n",
    "Thus a good starting point for MDKE is:\n",
    "- 1️⃣ Pick any fast SDKE algorithm like Text Rank\n",
    "- 2️⃣ Run the algorithm on each document within your cluster\n",
    "- 3️⃣ Merge all the key phrases from all the documents in your cluster and rank them using the document frequency. You can use an IDF to penalize very frequent keyphrases too.\n",
    "\n",
    "I regularly post about practical and applied data science. If you like my posts, let's connect!\n",
    "\n",
    "#datascience #nlp #researchpaper #algorithms"
   ]
  },
  {
   "cell_type": "code",
   "execution_count": null,
   "id": "93ea5c21-0a55-4f2e-ab3d-85896dcea4c4",
   "metadata": {},
   "outputs": [],
   "source": []
  }
 ],
 "metadata": {
  "kernelspec": {
   "display_name": "Python 3 (ipykernel)",
   "language": "python",
   "name": "python3"
  },
  "language_info": {
   "codemirror_mode": {
    "name": "ipython",
    "version": 3
   },
   "file_extension": ".py",
   "mimetype": "text/x-python",
   "name": "python",
   "nbconvert_exporter": "python",
   "pygments_lexer": "ipython3",
   "version": "3.9.13"
  }
 },
 "nbformat": 4,
 "nbformat_minor": 5
}
